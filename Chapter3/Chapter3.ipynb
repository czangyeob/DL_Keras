{
 "cells": [
  {
   "cell_type": "markdown",
   "metadata": {},
   "source": [
    "## LeNet code in Keras"
   ]
  },
  {
   "cell_type": "code",
   "execution_count": 1,
   "metadata": {},
   "outputs": [
    {
     "name": "stderr",
     "output_type": "stream",
     "text": [
      "Using TensorFlow backend.\n"
     ]
    }
   ],
   "source": [
    "from keras import backend as K\n",
    "from keras.models import Sequential\n",
    "from keras.layers.convolutional import Conv2D\n",
    "from keras.layers.convolutional import MaxPooling2D\n",
    "from keras.layers.core import Activation\n",
    "from keras.layers.core import Flatten\n",
    "from keras.layers.core import Dense\n",
    "from keras.datasets import mnist\n",
    "from keras.utils import np_utils\n",
    "from keras.optimizers import SGD, RMSprop, Adam"
   ]
  },
  {
   "cell_type": "code",
   "execution_count": 2,
   "metadata": {
    "collapsed": true
   },
   "outputs": [],
   "source": [
    "import numpy as np\n",
    "import matplotlib.pyplot as plt"
   ]
  },
  {
   "cell_type": "code",
   "execution_count": 15,
   "metadata": {
    "collapsed": true
   },
   "outputs": [],
   "source": [
    "# 합성곱 신경망(ConvNet) 정의\n",
    "class LeNet:\n",
    "    @staticmethod\n",
    "    def build(input_shape, classes):\n",
    "        model = Sequential()\n",
    "        # CONV => RELU => POOL\n",
    "        model.add(Conv2D(20, kernel_size=5, padding=\"same\",input_shape=input_shape))\n",
    "        model.add(Activation(\"relu\"))\n",
    "        model.add(MaxPooling2D(pool_size=(2,2), strides=(2,2)))\n",
    "        # CONV => RELU => POOL\n",
    "        model.add(Conv2D(50, kernel_size=5,padding=\"same\"))\n",
    "        model.add(Activation(\"relu\"))\n",
    "        model.add(MaxPooling2D(pool_size=(2,2), strides=(2,2)))\n",
    "        \n",
    "        # Flatten => RELU layers\n",
    "        model.add(Flatten())\n",
    "        model.add(Dense(500))\n",
    "        model.add(Activation(\"relu\"))\n",
    "        # 소프트맥스 분류기\n",
    "        model.add(Dense(classes))\n",
    "        model.add(Activation(\"softmax\"))\n",
    "        return model"
   ]
  },
  {
   "cell_type": "code",
   "execution_count": 4,
   "metadata": {
    "collapsed": true
   },
   "outputs": [],
   "source": [
    "# 네트워크와 학습\n",
    "NB_EPOCH = 20\n",
    "BATCH_SIZE = 128\n",
    "VERBOSE = 1\n",
    "OPTIMIZER = Adam()\n",
    "VALIDATION_SPLIT = 0.2\n",
    "IMG_ROWS, IMG_COLS = 28, 28 # 입력 이미지 차원\n",
    "NB_CLASSES = 10 # 출력 숫자 = 손글씨가 나타내는 숫자\n",
    "INPUT_SHAPE = (1, IMG_ROWS, IMG_COLS)"
   ]
  },
  {
   "cell_type": "code",
   "execution_count": 5,
   "metadata": {},
   "outputs": [],
   "source": [
    "# 데이터 : 학습 데이터와 테스트 데이터를 섞고 분할한다.\n",
    "(X_train, y_train), (X_test, y_test) = mnist.load_data()"
   ]
  },
  {
   "cell_type": "code",
   "execution_count": 6,
   "metadata": {},
   "outputs": [],
   "source": [
    "K.set_image_dim_ordering(\"th\")\n",
    "# 실수 값으로 간주하고 정규화 한다.\n",
    "X_train = X_train.astype('float32')\n",
    "X_test = X_test.astype('float32')\n",
    "X_train /= 255\n",
    "X_test /= 255"
   ]
  },
  {
   "cell_type": "code",
   "execution_count": 7,
   "metadata": {},
   "outputs": [
    {
     "name": "stdout",
     "output_type": "stream",
     "text": [
      "60000 train samples\n",
      "10000 test samples\n"
     ]
    }
   ],
   "source": [
    "# 6만개 x [1 x 28 x 28] 형태의 입력 값을 합성곱 신경망에 보낸다.\n",
    "X_train = X_train[:, np.newaxis, :, :]\n",
    "X_test = X_test[:, np.newaxis, :, :]\n",
    "print(X_train.shape[0], 'train samples')\n",
    "print(X_test.shape[0], 'test samples')"
   ]
  },
  {
   "cell_type": "code",
   "execution_count": 8,
   "metadata": {
    "collapsed": true
   },
   "outputs": [],
   "source": [
    "# 클래스 벡터를 이진 클래스 행렬로 변환\n",
    "y_train = np_utils.to_categorical(y_train, NB_CLASSES)\n",
    "y_test = np_utils.to_categorical(y_test, NB_CLASSES)"
   ]
  },
  {
   "cell_type": "code",
   "execution_count": 16,
   "metadata": {},
   "outputs": [
    {
     "name": "stdout",
     "output_type": "stream",
     "text": [
      "Train on 48000 samples, validate on 12000 samples\n",
      "Epoch 1/20\n",
      "48000/48000 [==============================] - 79s - loss: 0.1286 - acc: 0.9598 - val_loss: 0.0393 - val_acc: 0.9886\n",
      "Epoch 2/20\n",
      "48000/48000 [==============================] - 79s - loss: 0.0304 - acc: 0.9908 - val_loss: 0.0374 - val_acc: 0.9886\n",
      "Epoch 3/20\n",
      "48000/48000 [==============================] - 79s - loss: 0.0174 - acc: 0.9942 - val_loss: 0.0385 - val_acc: 0.9895\n",
      "Epoch 4/20\n",
      "48000/48000 [==============================] - 79s - loss: 0.0118 - acc: 0.9960 - val_loss: 0.0321 - val_acc: 0.9909\n",
      "Epoch 5/20\n",
      "48000/48000 [==============================] - 79s - loss: 0.0083 - acc: 0.9974 - val_loss: 0.0333 - val_acc: 0.9907\n",
      "Epoch 6/20\n",
      "48000/48000 [==============================] - 79s - loss: 0.0068 - acc: 0.9978 - val_loss: 0.0362 - val_acc: 0.9905\n",
      "Epoch 7/20\n",
      "48000/48000 [==============================] - 79s - loss: 0.0050 - acc: 0.9982 - val_loss: 0.0334 - val_acc: 0.9898\n",
      "Epoch 8/20\n",
      "48000/48000 [==============================] - 79s - loss: 0.0058 - acc: 0.9980 - val_loss: 0.0355 - val_acc: 0.9912\n",
      "Epoch 9/20\n",
      "48000/48000 [==============================] - 80s - loss: 0.0033 - acc: 0.9990 - val_loss: 0.0389 - val_acc: 0.9915\n",
      "Epoch 10/20\n",
      "48000/48000 [==============================] - 79s - loss: 0.0011 - acc: 0.9997 - val_loss: 0.0363 - val_acc: 0.9921\n",
      "Epoch 11/20\n",
      "48000/48000 [==============================] - 79s - loss: 0.0020 - acc: 0.9995 - val_loss: 0.0523 - val_acc: 0.9881\n",
      "Epoch 12/20\n",
      "48000/48000 [==============================] - 79s - loss: 0.0086 - acc: 0.9968 - val_loss: 0.0440 - val_acc: 0.9900\n",
      "Epoch 13/20\n",
      "48000/48000 [==============================] - 79s - loss: 0.0032 - acc: 0.9991 - val_loss: 0.0409 - val_acc: 0.9921\n",
      "Epoch 14/20\n",
      "48000/48000 [==============================] - 79s - loss: 0.0012 - acc: 0.9997 - val_loss: 0.0400 - val_acc: 0.9926\n",
      "Epoch 15/20\n",
      "48000/48000 [==============================] - 79s - loss: 4.8097e-04 - acc: 0.9999 - val_loss: 0.0428 - val_acc: 0.9922c: 0.9\n",
      "Epoch 16/20\n",
      "48000/48000 [==============================] - 78s - loss: 6.5990e-04 - acc: 0.9999 - val_loss: 0.0483 - val_acc: 0.9903\n",
      "Epoch 17/20\n",
      "48000/48000 [==============================] - 78s - loss: 0.0076 - acc: 0.9975 - val_loss: 0.0706 - val_acc: 0.9854\n",
      "Epoch 18/20\n",
      "48000/48000 [==============================] - 78s - loss: 0.0041 - acc: 0.9986 - val_loss: 0.0439 - val_acc: 0.9914\n",
      "Epoch 19/20\n",
      "48000/48000 [==============================] - 78s - loss: 0.0021 - acc: 0.9993 - val_loss: 0.0420 - val_acc: 0.9922\n",
      "Epoch 20/20\n",
      "48000/48000 [==============================] - 79s - loss: 0.0014 - acc: 0.9995 - val_loss: 0.0456 - val_acc: 0.9921\n"
     ]
    }
   ],
   "source": [
    "# 옵티마이저와 모델 초기화\n",
    "model = LeNet.build(input_shape=INPUT_SHAPE, classes=NB_CLASSES)\n",
    "model.compile(loss=\"categorical_crossentropy\", optimizer=OPTIMIZER, metrics=[\"accuracy\"])\n",
    "history = model.fit(X_train, y_train, batch_size = BATCH_SIZE, epochs=NB_EPOCH, verbose=VERBOSE, validation_split= VALIDATION_SPLIT)"
   ]
  },
  {
   "cell_type": "code",
   "execution_count": 17,
   "metadata": {},
   "outputs": [
    {
     "name": "stdout",
     "output_type": "stream",
     "text": [
      " 9952/10000 [============================>.] - ETA: 0sTest score: 0.0418438133011\n",
      "Test accuracy 0.9914\n"
     ]
    }
   ],
   "source": [
    "score = model.evaluate(X_test, y_test, verbose=VERBOSE)\n",
    "print(\"Test score:\", score[0])\n",
    "print(\"Test accuracy\", score[1])"
   ]
  },
  {
   "cell_type": "code",
   "execution_count": 22,
   "metadata": {},
   "outputs": [
    {
     "name": "stdout",
     "output_type": "stream",
     "text": [
      "dict_keys(['acc', 'val_loss', 'val_acc', 'loss'])\n"
     ]
    }
   ],
   "source": [
    "# 히스토리에 있는 모든 데이터 리스트\n",
    "print(history.history.keys())"
   ]
  },
  {
   "cell_type": "code",
   "execution_count": 23,
   "metadata": {},
   "outputs": [
    {
     "data": {
      "image/png": "[encoded data removed]",
      "text/plain": [
       "<matplotlib.figure.Figure at 0x194822e0b38>"
      ]
     },
     "metadata": {},
     "output_type": "display_data"
    }
   ],
   "source": [
    "# 단순 정확도에 대한 히스토리 요약\n",
    "plt.plot(history.history['acc'])\n",
    "plt.plot(history.history['val_acc'])\n",
    "plt.title('model accuracy')\n",
    "plt.ylabel('accuracy')\n",
    "plt.xlabel('epoch')\n",
    "plt.legend(['train', 'test'], loc='upper right')\n",
    "plt.show()"
   ]
  },
  {
   "cell_type": "code",
   "execution_count": 24,
   "metadata": {},
   "outputs": [
    {
     "data": {
      "image/png": "[encoded data removed]",
      "text/plain": [
       "<matplotlib.figure.Figure at 0x194902adbe0>"
      ]
     },
     "metadata": {},
     "output_type": "display_data"
    }
   ],
   "source": [
    "# 손실에 대한 히스토리 요약\n",
    "plt.plot(history.history['loss'])\n",
    "plt.plot(history.history['val_loss'])\n",
    "plt.title('model loss')\n",
    "plt.ylabel('loss')\n",
    "plt.xlabel('epoch')\n",
    "plt.legend(['train', 'test'], loc='upper right')\n",
    "plt.show()"
   ]
  },
  {
   "cell_type": "code",
   "execution_count": null,
   "metadata": {
    "collapsed": true
   },
   "outputs": [],
   "source": []
  }
 ],
 "metadata": {
  "kernelspec": {
   "display_name": "Python 3",
   "language": "python",
   "name": "python3"
  },
  "language_info": {
   "codemirror_mode": {
    "name": "ipython",
    "version": 3
   },
   "file_extension": ".py",
   "mimetype": "text/x-python",
   "name": "python",
   "nbconvert_exporter": "python",
   "pygments_lexer": "ipython3",
   "version": "3.5.3"
  }
 },
 "nbformat": 4,
 "nbformat_minor": 2
}
